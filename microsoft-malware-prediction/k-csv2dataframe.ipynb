{
 "cells": [
  {
   "cell_type": "code",
   "execution_count": 1,
   "metadata": {},
   "outputs": [],
   "source": [
    "import pandas as pd\n",
    "import glob\n",
    "import shutil\n",
    "import sys\n",
    "import numpy as np\n",
    "from IPython.display import display, HTML\n",
    "import matplotlib.pyplot as plt\n",
    "import math\n",
    "from sklearn.impute import SimpleImputer"
   ]
  },
  {
   "cell_type": "code",
   "execution_count": 2,
   "metadata": {},
   "outputs": [],
   "source": [
    "df = pd.read_pickle('df.pkl')"
   ]
  },
  {
   "cell_type": "code",
   "execution_count": null,
   "metadata": {},
   "outputs": [],
   "source": [
    "df.to_pickle('df.pkl')"
   ]
  },
  {
   "cell_type": "code",
   "execution_count": null,
   "metadata": {},
   "outputs": [],
   "source": [
    "# Categorical features \n",
    "cat_features = features.select_dtypes(include=['object']).columns\n",
    "print(cat_features)\n",
    "\n",
    "for y in cat_features:\n",
    "    features = features.join(pd.get_dummies(features[y], prefix=y))\n",
    "    features.drop(y, axis=1, inplace=True)"
   ]
  },
  {
   "cell_type": "code",
   "execution_count": null,
   "metadata": {},
   "outputs": [],
   "source": [
    "# Split the data in features and target label\n",
    "label = df['HasDetections']\n",
    "features = df.drop('HasDetections', axis=1)"
   ]
  },
  {
   "cell_type": "code",
   "execution_count": 10,
   "metadata": {},
   "outputs": [
    {
     "name": "stdout",
     "output_type": "stream",
     "text": [
      "<class 'pandas.core.series.Series'>\n",
      "Census_OSVersion_3                                   0.0\n",
      "Census_PrimaryDiskTypeName                           0.0\n",
      "UacLuaenable                                         0.0\n",
      "Census_MDC2FormFactor                                0.0\n",
      "Census_DeviceFamily                                  0.0\n",
      "Census_OEMNameIdentifier                             0.0\n",
      "Census_OEMModelIdentifier                            0.0\n",
      "Census_ProcessorCoreCount                            0.0\n",
      "Census_ProcessorManufacturerIdentifier               0.0\n",
      "Census_ProcessorModelIdentifier                      0.0\n",
      "Census_PrimaryDiskTotalCapacity                      0.0\n",
      "Census_SystemVolumeTotalCapacity                     0.0\n",
      "SmartScreen                                          0.0\n",
      "Census_HasOpticalDiskDrive                           0.0\n",
      "Census_TotalPhysicalRAM                              0.0\n",
      "Census_ChassisTypeName                               0.0\n",
      "Census_InternalPrimaryDiagonalDisplaySizeInInches    0.0\n",
      "Census_InternalPrimaryDisplayResolutionHorizontal    0.0\n",
      "Census_InternalPrimaryDisplayResolutionVertical      0.0\n",
      "Census_PowerPlatformRoleName                         0.0\n",
      "Census_InternalBatteryType                           0.0\n",
      "Census_InternalBatteryNumberOfCharges                0.0\n",
      "Firewall                                             0.0\n",
      "IeVerIdentifier                                      0.0\n",
      "Census_OSVersion_2                                   0.0\n",
      "OrganizationIdentifier                               0.0\n",
      "IsBeta                                               0.0\n",
      "RtpStateBitfield                                     0.0\n",
      "IsSxsPassiveMode                                     0.0\n",
      "AVProductStatesIdentifier                            0.0\n",
      "                                                    ... \n",
      "OsBuildLab_2                                         0.0\n",
      "OsBuildLab_3                                         0.0\n",
      "OsBuildLab_4                                         0.0\n",
      "OsBuildLab_5                                         0.0\n",
      "Census_OSVersion_0                                   0.0\n",
      "Census_OSVersion_1                                   0.0\n",
      "HasDetections                                        0.0\n",
      "Wdft_RegionIdentifier                                0.0\n",
      "Wdft_IsGamer                                         0.0\n",
      "Census_IsAlwaysOnAlwaysConnectedCapable              0.0\n",
      "Census_OSEdition                                     0.0\n",
      "Census_OSSkuName                                     0.0\n",
      "Census_OSInstallTypeName                             0.0\n",
      "Census_OSInstallLanguageIdentifier                   0.0\n",
      "Census_OSUILocaleIdentifier                          0.0\n",
      "Census_OSWUAutoUpdateOptionsName                     0.0\n",
      "Census_IsPortableOperatingSystem                     0.0\n",
      "Census_GenuineStateName                              0.0\n",
      "Census_ActivationChannel                             0.0\n",
      "Census_IsFlightsDisabled                             0.0\n",
      "Census_FlightRing                                    0.0\n",
      "Census_ThresholdOptIn                                0.0\n",
      "Census_FirmwareManufacturerIdentifier                0.0\n",
      "Census_FirmwareVersionIdentifier                     0.0\n",
      "Census_IsSecureBootEnabled                           0.0\n",
      "Census_IsWIMBootEnabled                              0.0\n",
      "Census_IsVirtualDevice                               0.0\n",
      "Census_IsTouchEnabled                                0.0\n",
      "Census_IsPenCapable                                  0.0\n",
      "ProductName                                          0.0\n",
      "Length: 94, dtype: float64\n"
     ]
    },
    {
     "data": {
      "text/plain": [
       "<Figure size 432x288 with 0 Axes>"
      ]
     },
     "metadata": {},
     "output_type": "display_data"
    }
   ],
   "source": [
    "# Percentage of nulls\n",
    "print(type(df.isnull().sum()/df.shape[0]))\n",
    "plt.figure()\n",
    "# (df.isnull().sum()/df.shape[0]).plot.hist()\n",
    "print((df.isnull().sum()/df.shape[0]).sort_values(ascending=False))"
   ]
  },
  {
   "cell_type": "code",
   "execution_count": null,
   "metadata": {},
   "outputs": [],
   "source": [
    "# Remove the rows, where the value count is less than 1000\n",
    "print(df.Census_InternalBatteryType.value_counts())\n",
    "# vc = df.Census_InternalBatteryType.value_counts()\n",
    "# u  = [i not in set(vc[vc<1000].index) for i in df['Census_InternalBatteryType']]\n",
    "# df = df[u]\n",
    "print(df.Census_InternalBatteryType.value_counts())"
   ]
  },
  {
   "cell_type": "code",
   "execution_count": null,
   "metadata": {},
   "outputs": [],
   "source": [
    "df.drop(df[df.SmartScreen == '&#x01;'].index, inplace=True)\n",
    "df.drop(df[df.SmartScreen == '&#x02;'].index, inplace=True)\n",
    "df.drop(df[df.SmartScreen == '&#x03;'].index, inplace=True)\n",
    "df.drop(df[df.SmartScreen == '0'].index, inplace=True)\n",
    "df.drop(df[df.SmartScreen == '00000000'].index, inplace=True)\n",
    "df.drop(df[df.SmartScreen == 'Enabled'].index, inplace=True)\n",
    "print(df['SmartScreen'].unique())\n",
    "df.SmartScreen.value_counts()"
   ]
  },
  {
   "cell_type": "code",
   "execution_count": null,
   "metadata": {},
   "outputs": [],
   "source": [
    "print(df['SmartScreen'].unique())\n",
    "df.SmartScreen.value_counts()"
   ]
  },
  {
   "cell_type": "code",
   "execution_count": null,
   "metadata": {},
   "outputs": [],
   "source": [
    "# Percentage of nulls\n",
    "print(type(df.isnull().sum()/df.shape[0]))\n",
    "plt.figure()\n",
    "# (df.isnull().sum()/df.shape[0]).plot.hist()\n",
    "print((df.isnull().sum()/df.shape[0]).sort_values(ascending=False))\n",
    "(df.isnull().sum()/df.shape[0]).sort_values().plot()\n",
    "plt.show()"
   ]
  },
  {
   "cell_type": "code",
   "execution_count": null,
   "metadata": {},
   "outputs": [],
   "source": [
    "for f in drop_list:\n",
    "    print('Dropping: ' + col)\n",
    "    df = df.drop(f, 1)"
   ]
  },
  {
   "cell_type": "code",
   "execution_count": null,
   "metadata": {},
   "outputs": [],
   "source": [
    "# Remove columns with only 1 unique value\n",
    "# Should do in the end also.\n",
    "# TODO\n",
    "# df.dropna(thresh=2)\n",
    "for col in df:\n",
    "    if(len(df.loc[:,col].unique()) == 1):\n",
    "        print('Dropping: ' + col)\n",
    "        drop_list.append(col)"
   ]
  },
  {
   "cell_type": "code",
   "execution_count": null,
   "metadata": {
    "scrolled": true
   },
   "outputs": [],
   "source": [
    "# Now analyze the next 5 features\n",
    "# print(df.iloc[:5,start_cnt:start_cnt+show_cnt])\n",
    "for y in df.columns[start_cnt:start_cnt+show_cnt]:\n",
    "  print(y, df[y].dtype)\n",
    "  print(df[y].unique())\n",
    "# start_cnt += show_cnt"
   ]
  },
  {
   "cell_type": "code",
   "execution_count": null,
   "metadata": {
    "scrolled": true
   },
   "outputs": [],
   "source": [
    "# Now analyze the next 5 features\n",
    "# print(df.iloc[:5,start_cnt:start_cnt+show_cnt])\n",
    "for y in df.columns[start_cnt:start_cnt+show_cnt]:\n",
    "  print(y, df[y].dtype)\n",
    "  print(df[y].unique())\n",
    "start_cnt += show_cnt"
   ]
  },
  {
   "cell_type": "code",
   "execution_count": null,
   "metadata": {
    "scrolled": true
   },
   "outputs": [],
   "source": [
    "# Now analyze the next 5 features\n",
    "# print(df.iloc[:5,start_cnt:start_cnt+show_cnt])\n",
    "for y in df.columns[start_cnt:start_cnt+show_cnt]:\n",
    "  print(y, df[y].dtype)\n",
    "  print(df[y].unique())\n",
    "start_cnt += show_cnt"
   ]
  },
  {
   "cell_type": "code",
   "execution_count": null,
   "metadata": {
    "scrolled": true
   },
   "outputs": [],
   "source": [
    "# Now analyze the next 5 features\n",
    "# print(df.iloc[:5,start_cnt:start_cnt+show_cnt])\n",
    "for y in df.columns[start_cnt:start_cnt+show_cnt]:\n",
    "  print(y, df[y].dtype)\n",
    "  print(df[y].unique())\n",
    "start_cnt += show_cnt"
   ]
  },
  {
   "cell_type": "code",
   "execution_count": null,
   "metadata": {
    "scrolled": true
   },
   "outputs": [],
   "source": [
    "# Now analyze the next 5 features\n",
    "# print(df.iloc[:5,start_cnt:start_cnt+show_cnt])\n",
    "for y in df.columns[start_cnt:start_cnt+show_cnt]:\n",
    "  print(y, df[y].dtype)\n",
    "  print(df[y].unique())\n",
    "start_cnt += show_cnt"
   ]
  },
  {
   "cell_type": "code",
   "execution_count": null,
   "metadata": {
    "scrolled": true
   },
   "outputs": [],
   "source": [
    "# Now analyze the next 5 features\n",
    "# print(df.iloc[:5,start_cnt:start_cnt+show_cnt])\n",
    "for y in df.columns[start_cnt:start_cnt+show_cnt]:\n",
    "  print(y, df[y].dtype)\n",
    "  print(df[y].unique())\n",
    "start_cnt += show_cnt"
   ]
  },
  {
   "cell_type": "code",
   "execution_count": null,
   "metadata": {
    "scrolled": true
   },
   "outputs": [],
   "source": [
    "# Now analyze the next 5 features\n",
    "# print(df.iloc[:5,start_cnt:start_cnt+show_cnt])\n",
    "for y in df.columns[start_cnt:start_cnt+show_cnt]:\n",
    "  print(y, df[y].dtype)\n",
    "  print(df[y].unique())\n",
    "start_cnt += show_cnt"
   ]
  },
  {
   "cell_type": "code",
   "execution_count": null,
   "metadata": {
    "scrolled": true
   },
   "outputs": [],
   "source": [
    "# Now analyze the next 5 features\n",
    "# print(df.iloc[:5,start_cnt:start_cnt+show_cnt])\n",
    "for y in df.columns[start_cnt:start_cnt+show_cnt]:\n",
    "  print(y, df[y].dtype)\n",
    "  print(df[y].unique())\n",
    "start_cnt += show_cnt"
   ]
  },
  {
   "cell_type": "code",
   "execution_count": null,
   "metadata": {
    "scrolled": true
   },
   "outputs": [],
   "source": [
    "# Now analyze the next 5 features\n",
    "# print(df.iloc[:5,start_cnt:start_cnt+show_cnt])\n",
    "for y in df.columns[start_cnt:start_cnt+show_cnt]:\n",
    "  print(y, df[y].dtype)\n",
    "  print(df[y].unique())\n",
    "start_cnt += show_cnt"
   ]
  },
  {
   "cell_type": "code",
   "execution_count": null,
   "metadata": {
    "scrolled": true
   },
   "outputs": [],
   "source": [
    "# Now analyze the next 5 features\n",
    "# print(df.iloc[:5,start_cnt:start_cnt+show_cnt])\n",
    "for y in df.columns[start_cnt:start_cnt+show_cnt]:\n",
    "  print(y, df[y].dtype)\n",
    "  print(df[y].unique())\n",
    "start_cnt += show_cnt"
   ]
  },
  {
   "cell_type": "code",
   "execution_count": null,
   "metadata": {
    "scrolled": true
   },
   "outputs": [],
   "source": [
    "# Now analyze the next 5 features\n",
    "# print(df.iloc[:5,start_cnt:start_cnt+show_cnt])\n",
    "for y in df.columns[start_cnt:start_cnt+show_cnt]:\n",
    "  print(y, df[y].dtype)\n",
    "  print(df[y].unique())\n",
    "start_cnt += show_cnt"
   ]
  },
  {
   "cell_type": "code",
   "execution_count": null,
   "metadata": {
    "scrolled": true
   },
   "outputs": [],
   "source": [
    "# Now analyze the next 5 features\n",
    "# print(df.iloc[:5,start_cnt:start_cnt+show_cnt])\n",
    "for y in df.columns[start_cnt:start_cnt+show_cnt]:\n",
    "  print(y, df[y].dtype)\n",
    "  print(df[y].unique())\n",
    "start_cnt += show_cnt"
   ]
  },
  {
   "cell_type": "code",
   "execution_count": null,
   "metadata": {},
   "outputs": [],
   "source": [
    "df['Census_OSVersion_0'] = df['Census_OSVersion'].apply(break_and_get_part, position=0)\n",
    "df['Census_OSVersion_1'] = df['Census_OSVersion'].apply(break_and_get_part, position=1)\n",
    "df['Census_OSVersion_2'] = df['Census_OSVersion'].apply(break_and_get_part, position=2)\n",
    "df['Census_OSVersion_3'] = df['Census_OSVersion'].apply(break_and_get_part, position=3)\n",
    "\n",
    "drop_list.append('Census_OSVersion')\n",
    "\n",
    "print(df['Census_OSVersion_0'].unique())\n",
    "print(df['Census_OSVersion_1'].unique())\n",
    "print(df['Census_OSVersion_2'].unique())\n",
    "print(df['Census_OSVersion_3'].unique())"
   ]
  },
  {
   "cell_type": "code",
   "execution_count": null,
   "metadata": {
    "scrolled": true
   },
   "outputs": [],
   "source": [
    "# Now analyze the next 5 features\n",
    "print(df.iloc[:5,start_cnt:start_cnt+show_cnt])\n",
    "for y in df.columns[start_cnt:start_cnt+show_cnt]:\n",
    "  print(y, df[y].dtype)\n",
    "  print(df[y].unique())\n",
    "start_cnt += show_cnt"
   ]
  },
  {
   "cell_type": "code",
   "execution_count": null,
   "metadata": {
    "scrolled": true
   },
   "outputs": [],
   "source": [
    "# Now analyze the next 5 features\n",
    "print(df.iloc[:5,start_cnt:start_cnt+show_cnt])\n",
    "for y in df.columns[start_cnt:start_cnt+show_cnt]:\n",
    "  print(y, df[y].dtype)\n",
    "  print(df[y].unique())\n",
    "start_cnt += show_cnt"
   ]
  },
  {
   "cell_type": "code",
   "execution_count": null,
   "metadata": {
    "scrolled": true
   },
   "outputs": [],
   "source": [
    "# Now analyze the next 5 features\n",
    "print(df.iloc[:5,start_cnt:start_cnt+show_cnt])\n",
    "for y in df.columns[start_cnt:start_cnt+show_cnt]:\n",
    "  print(y, df[y].dtype)\n",
    "  print(df[y].unique())\n",
    "start_cnt += show_cnt"
   ]
  },
  {
   "cell_type": "code",
   "execution_count": null,
   "metadata": {
    "scrolled": true
   },
   "outputs": [],
   "source": [
    "# Now analyze the next 5 features\n",
    "print(df.iloc[:5,start_cnt:start_cnt+show_cnt])\n",
    "for y in df.columns[start_cnt:start_cnt+show_cnt]:\n",
    "  print(y, df[y].dtype)\n",
    "  print(df[y].unique())\n",
    "start_cnt += show_cnt"
   ]
  },
  {
   "cell_type": "code",
   "execution_count": null,
   "metadata": {},
   "outputs": [],
   "source": [
    "df.loc[df.SmartScreen == 'off', 'SmartScreen'] = \"Off\"\n",
    "df.loc[df.SmartScreen == 'on', 'SmartScreen'] = \"On\"\n",
    "df.loc[df.SmartScreen == 'OFF', 'SmartScreen'] = \"Off\"\n",
    "df.loc[df.SmartScreen == 'requireAdmin', 'SmartScreen'] = \"RequireAdmin\"\n",
    "df.loc[df.SmartScreen == 'Promt', 'SmartScreen'] = \"Prompt\"\n",
    "df.loc[df.SmartScreen == 'prompt', 'SmartScreen'] = \"Prompt\"\n",
    "df.loc[df.SmartScreen == 'warn', 'SmartScreen'] = \"Warn\"\n",
    "df.loc[df.SmartScreen == 'requireadmin', 'SmartScreen'] = \"RequireAdmin\"\n",
    "print(df['SmartScreen'].unique())"
   ]
  },
  {
   "cell_type": "code",
   "execution_count": null,
   "metadata": {
    "scrolled": true
   },
   "outputs": [],
   "source": [
    "# Now analyze the next 5 features\n",
    "print(df.iloc[:5,start_cnt:start_cnt+show_cnt])\n",
    "for y in df.columns[start_cnt:start_cnt+show_cnt]:\n",
    "  print(y, df[y].dtype)\n",
    "  print(df[y].unique())\n",
    "start_cnt += show_cnt"
   ]
  },
  {
   "cell_type": "code",
   "execution_count": 9,
   "metadata": {
    "scrolled": true
   },
   "outputs": [
    {
     "name": "stdout",
     "output_type": "stream",
     "text": [
      "   UacLuaenable Census_MDC2FormFactor Census_DeviceFamily  \\\n",
      "0           1.0               Desktop     Windows.Desktop   \n",
      "1           1.0              Notebook     Windows.Desktop   \n",
      "2           1.0               Desktop     Windows.Desktop   \n",
      "3           1.0               Desktop     Windows.Desktop   \n",
      "4           1.0              Notebook     Windows.Desktop   \n",
      "\n",
      "   Census_OEMNameIdentifier  Census_OEMModelIdentifier  \n",
      "0                    2668.0                     9124.0  \n",
      "1                    2668.0                    91656.0  \n",
      "2                    4909.0                   317701.0  \n",
      "3                    1443.0                   275890.0  \n",
      "4                    1443.0                   331929.0  \n",
      "UacLuaenable float64\n",
      "[1.0000000e+00 0.0000000e+00 4.8000000e+01 3.0000000e+00 2.0000000e+00\n",
      " 6.3570620e+06 4.9000000e+01 1.6777216e+07 5.0000000e+00 2.5500000e+02\n",
      " 7.7988840e+06]\n",
      "Census_MDC2FormFactor object\n",
      "['Desktop' 'Notebook' 'Detachable' 'PCOther' 'AllInOne' 'Convertible'\n",
      " 'SmallTablet' 'LargeTablet' 'SmallServer' 'LargeServer' 'MediumServer'\n",
      " 'ServerOther' 'IoTOther']\n",
      "Census_DeviceFamily object\n",
      "['Windows.Desktop' 'Windows.Server' 'Windows']\n",
      "Census_OEMNameIdentifier float64\n",
      "[2668. 4909. 1443. ... 5962. 5624. 4792.]\n",
      "Census_OEMModelIdentifier float64\n",
      "[  9124.  91656. 317701. ... 145148. 103309. 247716.]\n"
     ]
    }
   ],
   "source": [
    "# Now analyze the next 5 features\n",
    "print(df.iloc[:5,start_cnt:start_cnt+show_cnt])\n",
    "for y in df.columns[start_cnt:start_cnt+show_cnt]:\n",
    "  print(y, df[y].dtype)\n",
    "  print(df[y].unique())\n",
    "start_cnt += show_cnt"
   ]
  },
  {
   "cell_type": "code",
   "execution_count": null,
   "metadata": {},
   "outputs": [],
   "source": [
    "# print(df['OsBuildLab'].dtype)\n",
    "# print(df['OsBuildLab'].unique())\n",
    "df['OsBuildLab_0'] = df['OsBuildLab'].apply(break_and_get_part_osbuildlab, position=0)\n",
    "df['OsBuildLab_1'] = df['OsBuildLab'].apply(break_and_get_part_osbuildlab, position=1)\n",
    "df['OsBuildLab_2'] = df['OsBuildLab'].apply(break_and_get_part_osbuildlab, position=2)\n",
    "df['OsBuildLab_3'] = df['OsBuildLab'].apply(break_and_get_part_osbuildlab, position=3)\n",
    "df['OsBuildLab_4'] = df['OsBuildLab'].apply(break_and_get_part_osbuildlab, position=4)\n",
    "df['OsBuildLab_5'] = df['OsBuildLab'].apply(break_and_get_part_osbuildlab, position=5)\n",
    "drop_list.append('OsBuildLab')\n",
    "print(df['OsBuildLab_0'].unique())\n",
    "print(df['OsBuildLab_1'].unique())\n",
    "print(df['OsBuildLab_2'].unique())\n",
    "print(df['OsBuildLab_3'].unique())\n",
    "print(df['OsBuildLab_4'].unique())\n",
    "print(df['OsBuildLab_5'].unique())"
   ]
  },
  {
   "cell_type": "code",
   "execution_count": null,
   "metadata": {},
   "outputs": [],
   "source": [
    "import math\n",
    "def break_and_get_part_osbuildlab(value, position):\n",
    "    if position < 4:\n",
    "        try:\n",
    "            return value.split(\".\")[position]\n",
    "        except:\n",
    "            return math.nan\n",
    "    elif position == 4:\n",
    "        try:\n",
    "            return value.split(\".\")[4].split('-')[0]\n",
    "        except:\n",
    "            return math.nan\n",
    "    elif position == 5:\n",
    "        try:\n",
    "            return value.split(\".\")[4].split('-')[1]\n",
    "        except:\n",
    "            return math.nan"
   ]
  },
  {
   "cell_type": "code",
   "execution_count": null,
   "metadata": {},
   "outputs": [],
   "source": [
    "df['OsVer_0'] = df['OsVer'].apply(break_and_get_part, position=0)\n",
    "df['OsVer_1'] = df['OsVer'].apply(break_and_get_part, position=1)\n",
    "df['OsVer_2'] = df['OsVer'].apply(break_and_get_part, position=2)\n",
    "df['OsVer_3'] = df['OsVer'].apply(break_and_get_part, position=3)\n",
    "drop_list.append('OsVer')\n",
    "print(df['OsVer_0'].unique())\n",
    "print(df['OsVer_1'].unique())\n",
    "print(df['OsVer_2'].unique())\n",
    "print(df['OsVer_3'].unique())"
   ]
  },
  {
   "cell_type": "code",
   "execution_count": 8,
   "metadata": {
    "scrolled": true
   },
   "outputs": [
    {
     "name": "stdout",
     "output_type": "stream",
     "text": [
      "   AutoSampleOptIn  SMode  IeVerIdentifier   SmartScreen  Firewall\n",
      "0                0    0.0            137.0             0       1.0\n",
      "1                0    0.0            137.0             0       1.0\n",
      "2                0    0.0            137.0  RequireAdmin       1.0\n",
      "3                0    0.0            137.0  ExistsNotSet       1.0\n",
      "4                0    0.0            137.0  RequireAdmin       1.0\n",
      "AutoSampleOptIn int64\n",
      "[0 1]\n",
      "SMode float64\n",
      "[0. 1.]\n",
      "IeVerIdentifier float64\n",
      "[137.  94.   0. 290. 117. 111. 333.  65. 108.  82. 103.  98. 323.  78.\n",
      " 105.  84. 135.  41.  76.  53. 107.  74. 302.  96.  68. 114. 311.  51.\n",
      "  71.  81. 335.  42.  46. 308. 334.  44.  90. 325.  88. 295.  92. 185.\n",
      "  87.  85. 327.  73.  86. 163.  91. 309. 337. 336. 317. 180. 190. 324.\n",
      "  50.  72. 321.  48.  64. 196. 331.  63.  45.  49. 318. 312. 326. 174.\n",
      " 176. 305. 287. 315. 186. 313. 194.  77. 169. 181. 332. 288. 153. 199.\n",
      "  58.  39. 205. 328. 300. 347. 307. 102. 152. 275. 303. 319. 322. 384.\n",
      " 294. 178. 154. 182. 158. 187.  56. 284.  47.  52. 201. 306.  62. 330.\n",
      " 388. 282. 316. 329. 200.  59. 304.  61.  66. 162. 408. 297.  57. 285.\n",
      " 156. 203.  60. 364. 383.  79. 280. 299. 166. 283. 314. 348. 151. 398.\n",
      " 146. 218. 429. 140. 210. 145. 143. 289. 173.   1. 397. 220. 224. 296.\n",
      "   8. 320. 136. 395. 349. 171.  54. 292. 147.  75. 391. 410. 366. 286.\n",
      " 338. 298. 293. 373.  17.  21. 168. 362.  34. 195. 202. 212. 423. 379.\n",
      " 412. 222.  15. 142. 400. 418.   9. 291. 278. 150.  12. 396.  83.  20.\n",
      "  89. 277. 110. 175. 109.  14. 211. 281.  10. 301. 310. 404.  19.  16.\n",
      "  13. 370.  40. 393. 425. 367.  55. 378. 406.  38. 358. 209. 416. 274.\n",
      " 377. 121.  27. 122.  33. 371. 394. 390. 392. 139. 428. 399.  18. 359.\n",
      " 350. 414. 368. 375. 403.  43. 407. 411. 213. 223. 409. 402. 161. 170.\n",
      " 376. 193. 115. 369.   2.  29. 159. 134. 427. 126. 415. 405. 381. 273.\n",
      " 279.  11. 343. 382. 215. 221. 172.  67. 165. 352. 198. 217. 141. 192.\n",
      " 401.  36. 197. 413.  32. 188. 177. 380. 123. 345. 191. 353. 214. 421.\n",
      " 361.  22. 216. 227. 219.  25. 372. 184. 112. 189.]\n",
      "SmartScreen object\n",
      "[0 'RequireAdmin' 'ExistsNotSet' 'Off' 'Warn' 'Prompt' 'Block' 'On']\n",
      "Firewall float64\n",
      "[1. 0.]\n"
     ]
    }
   ],
   "source": [
    "# Now analyze the next 5 features\n",
    "print(df.iloc[:5,start_cnt:start_cnt+show_cnt])\n",
    "for y in df.columns[start_cnt:start_cnt+show_cnt]:\n",
    "  print(y, df[y].dtype)\n",
    "  print(df[y].unique())\n",
    "start_cnt += show_cnt"
   ]
  },
  {
   "cell_type": "code",
   "execution_count": 7,
   "metadata": {
    "scrolled": false
   },
   "outputs": [
    {
     "name": "stdout",
     "output_type": "stream",
     "text": [
      "   OsBuild  OsSuite OsPlatformSubRelease SkuEdition  IsProtected\n",
      "0    17134      256                  rs4        Pro          1.0\n",
      "1    17134      256                  rs4        Pro          1.0\n",
      "2    17134      768                  rs4       Home          1.0\n",
      "3    17134      256                  rs4        Pro          1.0\n",
      "4    17134      768                  rs4       Home          1.0\n",
      "OsBuild int64\n",
      "[17134 14393 16299  7601  9600 10240 15063 10586 17744 17692 17738 17751\n",
      " 17755 17730 17733 17746 17735 17754 17741 17713 17740 17672 17758 17763\n",
      "  7600 17666 17677 17686 17747 17760 17759 17682 17761 17704 17661 17643\n",
      " 18234 17618 18204 17639 17634 17728 18237 18242 17133 17723 17650 17711\n",
      " 18219 18240 17627 17655 18214 18201 17604 18224 18241 17689 17718 17753\n",
      " 18227 18238 17725 17694 17757 18233 17623 17756 17749 17734 17752 18226\n",
      " 18230 18244 18236 17750]\n",
      "OsSuite int64\n",
      "[256 768 272  16 400 784 305 274  49 144 402 528 307  18]\n",
      "OsPlatformSubRelease object\n",
      "['rs4' 'rs1' 'rs3' 'windows7' 'windows8.1' 'th1' 'rs2' 'th2' 'prers5']\n",
      "SkuEdition object\n",
      "['Pro' 'Home' 'Invalid' 'Enterprise LTSB' 'Enterprise' 'Education' 'Cloud'\n",
      " 'Server']\n",
      "IsProtected float64\n",
      "[1. 0.]\n"
     ]
    }
   ],
   "source": [
    "# Now analyze the next 5 features\n",
    "print(df.iloc[:5,start_cnt:start_cnt+show_cnt])\n",
    "for y in df.columns[start_cnt:start_cnt+show_cnt]:\n",
    "  print(y, df[y].dtype)\n",
    "  print(df[y].unique())\n",
    "start_cnt += show_cnt"
   ]
  },
  {
   "cell_type": "code",
   "execution_count": 6,
   "metadata": {
    "scrolled": false
   },
   "outputs": [
    {
     "name": "stdout",
     "output_type": "stream",
     "text": [
      "   OrganizationIdentifier  GeoNameIdentifier  LocaleEnglishNameIdentifier  \\\n",
      "0                    18.0               35.0                          171   \n",
      "1                    18.0              119.0                           64   \n",
      "2                    18.0               64.0                           49   \n",
      "3                     0.0              117.0                          115   \n",
      "4                     0.0              277.0                           75   \n",
      "\n",
      "    Platform Processor  \n",
      "0  windows10       x64  \n",
      "1  windows10       x64  \n",
      "2  windows10       x64  \n",
      "3  windows10       x64  \n",
      "4  windows10       x64  \n",
      "OrganizationIdentifier float64\n",
      "[18.  0. 27. 46. 11. 14. 37. 10. 50. 49. 33.  8. 48. 36. 31.  4.  1. 28.\n",
      "  3. 52. 32. 51.  5.  2. 47. 44. 16. 40. 20. 22. 29. 26. 21. 39.  6. 19.\n",
      "  7. 30. 42. 43. 41. 15. 45. 25. 35. 23. 38. 12. 17. 34.]\n",
      "GeoNameIdentifier float64\n",
      "[ 35. 119.  64. 117. 277. 126.  89. 205. 138. 101. 211. 209. 199. 230.\n",
      " 202.  53. 187.  15. 255. 274. 266.  10. 276. 267. 240.  45. 204.  57.\n",
      "  17. 120.  75. 185. 253.  71. 122. 184. 287.  76. 252.  98. 167.  77.\n",
      " 258. 148. 181. 157.  52. 224. 234. 233.  30. 186. 129. 237. 151. 200.\n",
      " 192.   3.   6.  24. 125. 107.  68.  39. 121. 198.  63. 294. 160.  11.\n",
      " 171. 251.  23. 207.  78. 194.  32. 241. 114. 282.  16. 154.  81. 144.\n",
      " 201. 264.  88. 206.  29. 284. 180.  66.  85. 150. 175.  91. 257. 123.\n",
      " 243. 226.  87. 275. 134. 145. 143.  19. 225.  67. 248. 115. 127. 133.\n",
      " 152. 155.   9. 165. 259.  90.  22. 176.  97.  21.  99. 286. 244. 111.\n",
      "  65. 140. 163. 273.  84. 208. 191. 250. 235.   2. 135. 170. 193. 109.\n",
      "  18. 118.  38.  12. 295. 177.   1. 281. 183.  33.  44. 246. 104. 110.\n",
      " 158. 178. 141. 166.  25.  69. 146.  80. 172. 261.  70. 112. 196. 228.\n",
      " 293.  43. 159. 100. 156.  27.  96. 147. 236.  46.   5. 227. 270.  60.\n",
      " 103. 173. 153. 105. 182. 113.  94. 247.  40. 102. 283. 221. 239. 268.\n",
      " 223. 128.  74. 263. 215.  86.  26. 131.  28.  82.  61. 149.  50.   7.\n",
      " 203.  34.  37. 162. 229. 271. 168. 272. 142. 288.  56. 232.  93. 289.\n",
      "   0. 269. 254. 164. 108.  58.   4. 285. 222.  54.  41. 195. 256. 161.\n",
      " 238.  49.  79. 174.  48. 220. 212.  36. 216. 139. 179.  73. 296.  31.\n",
      " 218.  59.  47. 291. 213. 188. 214. 262. 137.   8. 190. 217. 290. 245.\n",
      " 231. 124.  42. 189. 136. 260. 242. 292. 197.  95.  13. 280.  14.  51.\n",
      "  72. 210. 249. 265. 132. 169. 116. 106.  92. 219.  55. 279. 278.]\n",
      "LocaleEnglishNameIdentifier int64\n",
      "[171  64  49 115  75 124  88 172 134 107 182  74  71  70  42  58  46 266\n",
      " 214 251 233  60 170 218 118 221 228  17  52  69  83 106 103 227  12  56\n",
      "  68 226 211 210 216 277 126 217  72  91  16 230   8  55 113 224  51  34\n",
      " 168 229 219   7  22  93 239  15 223 262 222 235 246  32 225 236 102 162\n",
      " 253  77 139 231  73 105  97  80 232 215 140  94  81  66   5   6  96 202\n",
      "  13  19  44  67 129  36 176   9  45  61  63  65 283 265  10 179 234 125\n",
      " 132 178  14 263 116  79  76  35 199 198 114  82 101   2 269 121  26 135\n",
      " 238  59  95 160  90  43 154  92 147 237  11 159 209 143  78 200  24 144\n",
      " 260  85 192 149 272  50 201 100  21   1 212 104 208  33   3 142  30 166\n",
      "  87  62 152 252  89 276 247 158 108  41 278 169 163  20 136  54 117   4\n",
      "  40  25 187 181 180  18 141 112  28 110 270 242 173 271 174 177  29 157\n",
      " 243 250 130 111 175 148  48 186 240 196 145 150 189  53 133 254 282 155\n",
      " 188 195  98 127  84  31 245 167 164 197 206 275 220 274 194  86 138 205\n",
      " 119 273 191 183 109 131  23 248 280 151 123 241 244  38 204 264 161 257\n",
      "  47 165 128 185 122 267 258 213 153 249  27 279 137 184 156 193 190 146\n",
      " 120 255  39  99 203 259]\n",
      "Platform object\n",
      "['windows10' 'windows7' 'windows8' 'windows2016']\n",
      "Processor object\n",
      "['x64' 'arm64' 'x86']\n"
     ]
    }
   ],
   "source": [
    "# Now analyze the next 5 features\n",
    "print(df.iloc[:5,start_cnt:start_cnt+show_cnt])\n",
    "for y in df.columns[start_cnt:start_cnt+show_cnt]:\n",
    "  print(y, df[y].dtype)\n",
    "  print(df[y].unique())\n",
    "start_cnt += show_cnt"
   ]
  },
  {
   "cell_type": "code",
   "execution_count": 5,
   "metadata": {
    "scrolled": false
   },
   "outputs": [
    {
     "name": "stdout",
     "output_type": "stream",
     "text": [
      "   AVProductsInstalled  AVProductsEnabled  HasTpm  CountryIdentifier  \\\n",
      "0                  1.0                1.0       1                 29   \n",
      "1                  1.0                1.0       1                 93   \n",
      "2                  1.0                1.0       1                 86   \n",
      "3                  1.0                1.0       1                 88   \n",
      "4                  1.0                1.0       1                 18   \n",
      "\n",
      "   CityIdentifier  \n",
      "0        128035.0  \n",
      "1          1482.0  \n",
      "2        153579.0  \n",
      "3         20710.0  \n",
      "4         37376.0  \n",
      "AVProductsInstalled float64\n",
      "[1. 2. 3. 5. 0. 4. 6. 7.]\n",
      "AVProductsEnabled float64\n",
      "[1. 2. 0. 4. 3. 5.]\n",
      "HasTpm int64\n",
      "[1 0]\n",
      "CountryIdentifier int64\n",
      "[ 29  93  86  88  18  97  78 164 107  80 171 169 157 178 158  43 147  12\n",
      " 203 205 199   9  68 201 141  35 159 160 129  44 207  15  89   3 108  55\n",
      " 195 214 148 100  16 155 190  95  53 204  94   8 152 110 184 132 122  57\n",
      "  39  51  59  70  52 121 149 142  41   2 179 180  27 103 167 101 220 119\n",
      " 173  84 166  60  56 150  99  66  24 151  19  91  81  50 168 162  21 154\n",
      "  45 137   7 139 123  37 177  33 104 188 202 211 112 118 144 115 221  98\n",
      "  85 208  11  40  58 120 170 102 145 215 143  62 163  48 222 131 156 124\n",
      "  90 106  28  73  30  63  26  22 117 183  49  96  61 185 138 172 133 127\n",
      "  87  46  42   5  71  32 198 197  17   6 113  83  36 135 153 206  25  38\n",
      " 219 140  34  67  23 130 175 136  13 111  74  47 192 210 146  76 191 125\n",
      " 176 209   4 218 182  92 194  77 134 196  10 186  69  82   1 181  31  54\n",
      "  20 109 116  65 213 126 189 174  75 165 114  79 128  72 217 187  64  14\n",
      " 200 216 212 193 105 161]\n",
      "CityIdentifier float64\n",
      "[128035.   1482. 153579. ...  47472. 147921.  97837.]\n"
     ]
    }
   ],
   "source": [
    "# Now analyze the next 5 features\n",
    "print(df.iloc[:5,start_cnt:start_cnt+show_cnt])\n",
    "for y in df.columns[start_cnt:start_cnt+show_cnt]:\n",
    "  print(y, df[y].dtype)\n",
    "  print(df[y].unique())\n",
    "start_cnt += show_cnt"
   ]
  },
  {
   "cell_type": "code",
   "execution_count": null,
   "metadata": {},
   "outputs": [],
   "source": [
    "print(df['EngineVersion_0'].unique())\n",
    "print(df['EngineVersion_1'].unique())\n",
    "print(df['EngineVersion_2'].unique())\n",
    "print(df['EngineVersion_3'].unique())\n",
    "print(df['AppVersion_0'].unique())\n",
    "print(df['AppVersion_1'].unique())\n",
    "print(df['AppVersion_2'].unique())\n",
    "print(df['AppVersion_3'].unique())\n",
    "print(df['AvSigVersion_0'].unique())\n",
    "print(df['AvSigVersion_1'].unique())\n",
    "print(df['AvSigVersion_2'].unique())\n",
    "print(df['AvSigVersion_3'].unique())"
   ]
  },
  {
   "cell_type": "code",
   "execution_count": null,
   "metadata": {},
   "outputs": [],
   "source": [
    "df['EngineVersion_0'] = df['EngineVersion'].apply(break_and_get_part, position=0)\n",
    "df['EngineVersion_1'] = df['EngineVersion'].apply(break_and_get_part, position=1)\n",
    "df['EngineVersion_2'] = df['EngineVersion'].apply(break_and_get_part, position=2)\n",
    "df['EngineVersion_3'] = df['EngineVersion'].apply(break_and_get_part, position=3)\n",
    "\n",
    "df['AppVersion_0'] = df['AppVersion'].apply(break_and_get_part, position=0)\n",
    "df['AppVersion_1'] = df['AppVersion'].apply(break_and_get_part, position=1)\n",
    "df['AppVersion_2'] = df['AppVersion'].apply(break_and_get_part, position=2)\n",
    "df['AppVersion_3'] = df['AppVersion'].apply(break_and_get_part, position=3)\n",
    "\n",
    "df['AvSigVersion_0'] = df['AvSigVersion'].apply(break_and_get_part, position=0)\n",
    "df['AvSigVersion_1'] = df['AvSigVersion'].apply(break_and_get_part, position=1)\n",
    "df['AvSigVersion_2'] = df['AvSigVersion'].apply(break_and_get_part, position=2)\n",
    "df['AvSigVersion_3'] = df['AvSigVersion'].apply(break_and_get_part, position=3)\n",
    "\n",
    "drop_list.append('EngineVersion')\n",
    "drop_list.append('AppVersion')\n",
    "drop_list.append('AvSigVersion')"
   ]
  },
  {
   "cell_type": "code",
   "execution_count": null,
   "metadata": {},
   "outputs": [],
   "source": [
    "def break_and_get_part(value, position):\n",
    "    return value.split(\".\")[position]"
   ]
  },
  {
   "cell_type": "code",
   "execution_count": 4,
   "metadata": {},
   "outputs": [
    {
     "name": "stdout",
     "output_type": "stream",
     "text": [
      "    ProductName  IsBeta  RtpStateBitfield  IsSxsPassiveMode  \\\n",
      "0  win8defender       0               7.0                 0   \n",
      "1  win8defender       0               7.0                 0   \n",
      "2  win8defender       0               7.0                 0   \n",
      "3  win8defender       0               7.0                 0   \n",
      "4  win8defender       0               7.0                 0   \n",
      "\n",
      "   AVProductStatesIdentifier  \n",
      "0                    53447.0  \n",
      "1                    53447.0  \n",
      "2                    53447.0  \n",
      "3                    53447.0  \n",
      "4                    53447.0  \n",
      "ProductName object\n",
      "IsBeta int64\n",
      "RtpStateBitfield float64\n",
      "IsSxsPassiveMode int64\n",
      "AVProductStatesIdentifier float64\n"
     ]
    }
   ],
   "source": [
    "# Now analyze one column at a time\n",
    "start_cnt = 0\n",
    "show_cnt = 5\n",
    "print(df.iloc[:5,start_cnt:start_cnt+show_cnt])\n",
    "for y in df.columns[start_cnt:start_cnt+show_cnt]:\n",
    "    print(y, df[y].dtype)\n",
    "start_cnt += show_cnt"
   ]
  },
  {
   "cell_type": "code",
   "execution_count": 3,
   "metadata": {},
   "outputs": [],
   "source": [
    "# Blindly replace all nan with 0.\n",
    "# This has to be change later.\n",
    "df = df.replace(np.nan, 0)"
   ]
  },
  {
   "cell_type": "code",
   "execution_count": null,
   "metadata": {},
   "outputs": [],
   "source": [
    "# Remove columns with only 1 unique value\n",
    "# Should do in the end also.\n",
    "# TODO\n",
    "# df.dropna(thresh=2)\n",
    "for col in df:\n",
    "    if(len(df.loc[:,col].unique()) == 1):\n",
    "        print('Dropping: ' + col)\n",
    "        drop_list.append(col)"
   ]
  },
  {
   "cell_type": "code",
   "execution_count": null,
   "metadata": {},
   "outputs": [],
   "source": [
    "# Drop MachineIdentifier\n",
    "drop_list.append('MachineIdentifier')"
   ]
  },
  {
   "cell_type": "code",
   "execution_count": null,
   "metadata": {},
   "outputs": [],
   "source": [
    "drop_list = []\n",
    "\n",
    "import operator \n",
    "# Find all the NaN\n",
    "# See what percentage of each column is NaN\n",
    "x_pct = {}\n",
    "length = len(df)\n",
    "for y in df.columns:\n",
    "    if df[y].isnull().sum() > 0:\n",
    "        x_cnt = df[y].isnull().sum()\n",
    "        x_pct[y] = 100.0*x_cnt/length\n",
    "        \n",
    "x_pct_list = sorted(x_pct.items(), key=operator.itemgetter(1), reverse=True)\n",
    "      \n",
    "# Print the features, where more than 80% of the data is NaN    \n",
    "for f, val in x_pct_list:\n",
    "    if val > 80:\n",
    "        print(f, val)\n",
    "        drop_list.append(f)\n",
    "        print('Dropping: ' + f)\n",
    "        print('------')"
   ]
  },
  {
   "cell_type": "code",
   "execution_count": null,
   "metadata": {},
   "outputs": [],
   "source": [
    "pd.set_option('max_colwidth',1000)"
   ]
  },
  {
   "cell_type": "code",
   "execution_count": null,
   "metadata": {},
   "outputs": [],
   "source": [
    "import matplotlib.pyplot as plt\n",
    "# Percentage of nulls\n",
    "print(type(df.isnull().sum()/df.shape[0]))\n",
    "plt.figure()\n",
    "# (df.isnull().sum()/df.shape[0]).plot.hist()\n",
    "print((df.isnull().sum()/df.shape[0]).sort_values())\n",
    "(df.isnull().sum()/df.shape[0]).sort_values().plot()\n",
    "plt.show()"
   ]
  },
  {
   "cell_type": "code",
   "execution_count": null,
   "metadata": {},
   "outputs": [],
   "source": [
    "# Delete columns, where all the entries are 0.\n",
    "df = df.loc[:, (df != 0).any(axis=0)]\n",
    "print(df.shape)\n",
    "df.info()"
   ]
  },
  {
   "cell_type": "code",
   "execution_count": null,
   "metadata": {},
   "outputs": [],
   "source": [
    "file = 'data/train.csv'\n",
    "df = pd.read_csv(file)"
   ]
  },
  {
   "cell_type": "code",
   "execution_count": null,
   "metadata": {},
   "outputs": [],
   "source": [
    "import pandas as pd\n",
    "import glob\n",
    "import shutil\n",
    "import sys\n",
    "import numpy as np\n",
    "from IPython.display import display, HTML\n",
    "import matplotlib.pyplot as plt\n",
    "import math\n",
    "from sklearn.preprocessing import Imputer"
   ]
  }
 ],
 "metadata": {
  "kernelspec": {
   "display_name": "Python [default]",
   "language": "python",
   "name": "python3"
  },
  "language_info": {
   "codemirror_mode": {
    "name": "ipython",
    "version": 3
   },
   "file_extension": ".py",
   "mimetype": "text/x-python",
   "name": "python",
   "nbconvert_exporter": "python",
   "pygments_lexer": "ipython3",
   "version": "3.5.5"
  }
 },
 "nbformat": 4,
 "nbformat_minor": 2
}
