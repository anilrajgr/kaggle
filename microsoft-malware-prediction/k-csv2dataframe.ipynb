{
 "cells": [
  {
   "cell_type": "code",
   "execution_count": null,
   "metadata": {},
   "outputs": [],
   "source": [
    "import pandas as pd\n",
    "import glob\n",
    "import shutil\n",
    "import sys\n",
    "import numpy as np\n",
    "from IPython.display import display, HTML\n",
    "import matplotlib.pyplot as plt"
   ]
  },
  {
   "cell_type": "code",
   "execution_count": null,
   "metadata": {},
   "outputs": [],
   "source": [
    "file = 'data/train.csv'\n",
    "df = pd.read_csv(file)"
   ]
  },
  {
   "cell_type": "code",
   "execution_count": null,
   "metadata": {},
   "outputs": [],
   "source": [
    "# Delete columns, where all the entries are 0.\n",
    "df = df.loc[:, (df != 0).any(axis=0)]\n",
    "print(df.shape)\n",
    "df.info()"
   ]
  },
  {
   "cell_type": "code",
   "execution_count": null,
   "metadata": {},
   "outputs": [],
   "source": [
    "import matplotlib.pyplot as plt\n",
    "# Percentage of nulls\n",
    "print(type(df.isnull().sum()/df.shape[0]))\n",
    "plt.figure()\n",
    "# (df.isnull().sum()/df.shape[0]).plot.hist()\n",
    "print((df.isnull().sum()/df.shape[0]).sort_values())\n",
    "(df.isnull().sum()/df.shape[0]).sort_values().plot()\n",
    "plt.show()"
   ]
  },
  {
   "cell_type": "code",
   "execution_count": null,
   "metadata": {},
   "outputs": [],
   "source": [
    "pd.set_option('max_colwidth',1000)"
   ]
  },
  {
   "cell_type": "code",
   "execution_count": null,
   "metadata": {},
   "outputs": [],
   "source": [
    "import operator \n",
    "# Find all the NaN\n",
    "# See what percentage of each column is NaN\n",
    "x_pct = {}\n",
    "length = len(df)\n",
    "for y in df.columns:\n",
    "    if df[y].isnull().sum() > 0:\n",
    "        x_cnt = df[y].isnull().sum()\n",
    "        x_pct[y] = 100.0*x_cnt/length\n",
    "        \n",
    "x_pct_list = sorted(x_pct.items(), key=operator.itemgetter(1), reverse=True)\n",
    "      \n",
    "# Print the features, where more than 80% of the data is NaN    \n",
    "for f, val in x_pct_list:\n",
    "    if val > 80:\n",
    "        print(f, val, end='')\n",
    "        print('------')"
   ]
  },
  {
   "cell_type": "code",
   "execution_count": null,
   "metadata": {},
   "outputs": [],
   "source": [
    "dont_care_list = []\n",
    "for f, val in x_pct_list:\n",
    "    if val > 80:\n",
    "        dont_care_list.append(f)\n",
    "        \n",
    "for f in dont_care_list:\n",
    "    df = df.drop(f, 1)"
   ]
  },
  {
   "cell_type": "code",
   "execution_count": null,
   "metadata": {},
   "outputs": [],
   "source": [
    "# Drop MachineIdentifier\n",
    "df = df.drop('MachineIdentifier', 1)"
   ]
  },
  {
   "cell_type": "code",
   "execution_count": null,
   "metadata": {},
   "outputs": [],
   "source": [
    "# Remove columns with only 1 unique value\n",
    "# Should do in the end also.\n",
    "# TODO\n",
    "# df.dropna(thresh=2)\n",
    "for col in df:\n",
    "    if(len(df.loc[:,col].unique()) == 1):\n",
    "        df.pop(col)"
   ]
  },
  {
   "cell_type": "code",
   "execution_count": null,
   "metadata": {},
   "outputs": [],
   "source": [
    "# Now analyze one column at a time\n",
    "start_cnt = 0\n",
    "show_cnt = 5\n",
    "print(df.iloc[:5,start_cnt:start_cnt+show_cnt])\n",
    "for y in df.columns[start_cnt:start_cnt+show_cnt]:\n",
    "    print(y, df[y].dtype)\n",
    "start_cnt += show_cnt"
   ]
  },
  {
   "cell_type": "code",
   "execution_count": null,
   "metadata": {},
   "outputs": [],
   "source": [
    "def break_and_get_part(value, position):\n",
    "    return value.split(\".\")[position]"
   ]
  },
  {
   "cell_type": "code",
   "execution_count": null,
   "metadata": {},
   "outputs": [],
   "source": [
    "df['EngineVersion_0'] = df['EngineVersion'].apply(break_and_get_part, position=0)\n",
    "df['EngineVersion_1'] = df['EngineVersion'].apply(break_and_get_part, position=1)\n",
    "df['EngineVersion_2'] = df['EngineVersion'].apply(break_and_get_part, position=2)\n",
    "df['EngineVersion_3'] = df['EngineVersion'].apply(break_and_get_part, position=3)\n",
    "\n",
    "df['AppVersion_0'] = df['AppVersion'].apply(break_and_get_part, position=0)\n",
    "df['AppVersion_1'] = df['AppVersion'].apply(break_and_get_part, position=1)\n",
    "df['AppVersion_2'] = df['AppVersion'].apply(break_and_get_part, position=2)\n",
    "df['AppVersion_3'] = df['AppVersion'].apply(break_and_get_part, position=3)\n",
    "\n",
    "df['AvSigVersion_0'] = df['AvSigVersion'].apply(break_and_get_part, position=0)\n",
    "df['AvSigVersion_1'] = df['AvSigVersion'].apply(break_and_get_part, position=1)\n",
    "df['AvSigVersion_2'] = df['AvSigVersion'].apply(break_and_get_part, position=2)\n",
    "df['AvSigVersion_3'] = df['AvSigVersion'].apply(break_and_get_part, position=3)\n",
    "\n",
    "df = df.drop('EngineVersion', 1)\n",
    "df = df.drop('AppVersion', 1)\n",
    "df = df.drop('AvSigVersion', 1)"
   ]
  },
  {
   "cell_type": "code",
   "execution_count": null,
   "metadata": {},
   "outputs": [],
   "source": [
    "print(df['EngineVersion_0'].unique())\n",
    "print(df['EngineVersion_1'].unique())\n",
    "print(df['EngineVersion_2'].unique())\n",
    "print(df['EngineVersion_3'].unique())\n",
    "print(df['AppVersion_0'].unique())\n",
    "print(df['AppVersion_1'].unique())\n",
    "print(df['AppVersion_2'].unique())\n",
    "print(df['AppVersion_3'].unique())\n",
    "print(df['AvSigVersion_0'].unique())\n",
    "print(df['AvSigVersion_1'].unique())\n",
    "print(df['AvSigVersion_2'].unique())\n",
    "print(df['AvSigVersion_3'].unique())"
   ]
  },
  {
   "cell_type": "code",
   "execution_count": null,
   "metadata": {},
   "outputs": [],
   "source": []
  }
 ],
 "metadata": {
  "kernelspec": {
   "display_name": "Python 3",
   "language": "python",
   "name": "python3"
  },
  "language_info": {
   "codemirror_mode": {
    "name": "ipython",
    "version": 3
   },
   "file_extension": ".py",
   "mimetype": "text/x-python",
   "name": "python",
   "nbconvert_exporter": "python",
   "pygments_lexer": "ipython3",
   "version": "3.7.0"
  }
 },
 "nbformat": 4,
 "nbformat_minor": 2
}
