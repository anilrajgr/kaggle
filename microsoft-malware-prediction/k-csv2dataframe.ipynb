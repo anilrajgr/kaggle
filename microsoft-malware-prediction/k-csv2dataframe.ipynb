{
 "cells": [
  {
   "cell_type": "code",
   "execution_count": 1,
   "metadata": {},
   "outputs": [],
   "source": [
    "import pandas as pd\n",
    "import glob\n",
    "import shutil\n",
    "import sys\n",
    "import numpy as np\n",
    "from IPython.display import display, HTML\n",
    "import matplotlib.pyplot as plt"
   ]
  },
  {
   "cell_type": "code",
   "execution_count": 2,
   "metadata": {},
   "outputs": [
    {
     "name": "stderr",
     "output_type": "stream",
     "text": [
      "/data/anaconda/envs/py35/lib/python3.5/site-packages/IPython/core/interactiveshell.py:2785: DtypeWarning: Columns (28) have mixed types. Specify dtype option on import or set low_memory=False.\n",
      "  interactivity=interactivity, compiler=compiler, result=result)\n"
     ]
    }
   ],
   "source": [
    "file = 'data/train.csv'\n",
    "df = pd.read_csv(file)"
   ]
  },
  {
   "cell_type": "code",
   "execution_count": 3,
   "metadata": {},
   "outputs": [
    {
     "name": "stdout",
     "output_type": "stream",
     "text": [
      "(8921483, 83)\n",
      "<class 'pandas.core.frame.DataFrame'>\n",
      "RangeIndex: 8921483 entries, 0 to 8921482\n",
      "Data columns (total 83 columns):\n",
      "MachineIdentifier                                    object\n",
      "ProductName                                          object\n",
      "EngineVersion                                        object\n",
      "AppVersion                                           object\n",
      "AvSigVersion                                         object\n",
      "IsBeta                                               int64\n",
      "RtpStateBitfield                                     float64\n",
      "IsSxsPassiveMode                                     int64\n",
      "DefaultBrowsersIdentifier                            float64\n",
      "AVProductStatesIdentifier                            float64\n",
      "AVProductsInstalled                                  float64\n",
      "AVProductsEnabled                                    float64\n",
      "HasTpm                                               int64\n",
      "CountryIdentifier                                    int64\n",
      "CityIdentifier                                       float64\n",
      "OrganizationIdentifier                               float64\n",
      "GeoNameIdentifier                                    float64\n",
      "LocaleEnglishNameIdentifier                          int64\n",
      "Platform                                             object\n",
      "Processor                                            object\n",
      "OsVer                                                object\n",
      "OsBuild                                              int64\n",
      "OsSuite                                              int64\n",
      "OsPlatformSubRelease                                 object\n",
      "OsBuildLab                                           object\n",
      "SkuEdition                                           object\n",
      "IsProtected                                          float64\n",
      "AutoSampleOptIn                                      int64\n",
      "PuaMode                                              object\n",
      "SMode                                                float64\n",
      "IeVerIdentifier                                      float64\n",
      "SmartScreen                                          object\n",
      "Firewall                                             float64\n",
      "UacLuaenable                                         float64\n",
      "Census_MDC2FormFactor                                object\n",
      "Census_DeviceFamily                                  object\n",
      "Census_OEMNameIdentifier                             float64\n",
      "Census_OEMModelIdentifier                            float64\n",
      "Census_ProcessorCoreCount                            float64\n",
      "Census_ProcessorManufacturerIdentifier               float64\n",
      "Census_ProcessorModelIdentifier                      float64\n",
      "Census_ProcessorClass                                object\n",
      "Census_PrimaryDiskTotalCapacity                      float64\n",
      "Census_PrimaryDiskTypeName                           object\n",
      "Census_SystemVolumeTotalCapacity                     float64\n",
      "Census_HasOpticalDiskDrive                           int64\n",
      "Census_TotalPhysicalRAM                              float64\n",
      "Census_ChassisTypeName                               object\n",
      "Census_InternalPrimaryDiagonalDisplaySizeInInches    float64\n",
      "Census_InternalPrimaryDisplayResolutionHorizontal    float64\n",
      "Census_InternalPrimaryDisplayResolutionVertical      float64\n",
      "Census_PowerPlatformRoleName                         object\n",
      "Census_InternalBatteryType                           object\n",
      "Census_InternalBatteryNumberOfCharges                float64\n",
      "Census_OSVersion                                     object\n",
      "Census_OSArchitecture                                object\n",
      "Census_OSBranch                                      object\n",
      "Census_OSBuildNumber                                 int64\n",
      "Census_OSBuildRevision                               int64\n",
      "Census_OSEdition                                     object\n",
      "Census_OSSkuName                                     object\n",
      "Census_OSInstallTypeName                             object\n",
      "Census_OSInstallLanguageIdentifier                   float64\n",
      "Census_OSUILocaleIdentifier                          int64\n",
      "Census_OSWUAutoUpdateOptionsName                     object\n",
      "Census_IsPortableOperatingSystem                     int64\n",
      "Census_GenuineStateName                              object\n",
      "Census_ActivationChannel                             object\n",
      "Census_IsFlightingInternal                           float64\n",
      "Census_IsFlightsDisabled                             float64\n",
      "Census_FlightRing                                    object\n",
      "Census_ThresholdOptIn                                float64\n",
      "Census_FirmwareManufacturerIdentifier                float64\n",
      "Census_FirmwareVersionIdentifier                     float64\n",
      "Census_IsSecureBootEnabled                           int64\n",
      "Census_IsWIMBootEnabled                              float64\n",
      "Census_IsVirtualDevice                               float64\n",
      "Census_IsTouchEnabled                                int64\n",
      "Census_IsPenCapable                                  int64\n",
      "Census_IsAlwaysOnAlwaysConnectedCapable              float64\n",
      "Wdft_IsGamer                                         float64\n",
      "Wdft_RegionIdentifier                                float64\n",
      "HasDetections                                        int64\n",
      "dtypes: float64(36), int64(17), object(30)\n",
      "memory usage: 5.5+ GB\n"
     ]
    }
   ],
   "source": [
    "# Delete columns, where all the entries are 0.\n",
    "df = df.loc[:, (df != 0).any(axis=0)]\n",
    "print(df.shape)\n",
    "df.info()"
   ]
  },
  {
   "cell_type": "code",
   "execution_count": 4,
   "metadata": {},
   "outputs": [
    {
     "name": "stdout",
     "output_type": "stream",
     "text": [
      "<class 'pandas.core.series.Series'>\n",
      "MachineIdentifier                                    0.000000\n",
      "Census_MDC2FormFactor                                0.000000\n",
      "Census_DeviceFamily                                  0.000000\n",
      "Census_HasOpticalDiskDrive                           0.000000\n",
      "Census_OSVersion                                     0.000000\n",
      "Census_OSArchitecture                                0.000000\n",
      "Census_OSBranch                                      0.000000\n",
      "Census_OSBuildNumber                                 0.000000\n",
      "Census_OSBuildRevision                               0.000000\n",
      "Census_OSEdition                                     0.000000\n",
      "AutoSampleOptIn                                      0.000000\n",
      "Census_OSSkuName                                     0.000000\n",
      "Census_OSUILocaleIdentifier                          0.000000\n",
      "Census_OSWUAutoUpdateOptionsName                     0.000000\n",
      "Census_IsPortableOperatingSystem                     0.000000\n",
      "Census_GenuineStateName                              0.000000\n",
      "Census_ActivationChannel                             0.000000\n",
      "Census_FlightRing                                    0.000000\n",
      "Census_IsSecureBootEnabled                           0.000000\n",
      "Census_IsTouchEnabled                                0.000000\n",
      "Census_IsPenCapable                                  0.000000\n",
      "Census_OSInstallTypeName                             0.000000\n",
      "SkuEdition                                           0.000000\n",
      "HasDetections                                        0.000000\n",
      "IsSxsPassiveMode                                     0.000000\n",
      "OsSuite                                              0.000000\n",
      "IsBeta                                               0.000000\n",
      "OsBuild                                              0.000000\n",
      "HasTpm                                               0.000000\n",
      "ProductName                                          0.000000\n",
      "                                                       ...   \n",
      "Census_ProcessorModelIdentifier                      0.004634\n",
      "Census_InternalPrimaryDisplayResolutionVertical      0.005267\n",
      "Census_InternalPrimaryDisplayResolutionHorizontal    0.005267\n",
      "Census_InternalPrimaryDiagonalDisplaySizeInInches    0.005283\n",
      "Census_SystemVolumeTotalCapacity                     0.005941\n",
      "Census_PrimaryDiskTotalCapacity                      0.005943\n",
      "IeVerIdentifier                                      0.006601\n",
      "Census_OSInstallLanguageIdentifier                   0.006735\n",
      "Census_IsAlwaysOnAlwaysConnectedCapable              0.007997\n",
      "Census_TotalPhysicalRAM                              0.009027\n",
      "Firewall                                             0.010239\n",
      "Census_OEMNameIdentifier                             0.010702\n",
      "Census_OEMModelIdentifier                            0.011459\n",
      "Census_FirmwareVersionIdentifier                     0.017949\n",
      "Census_IsFlightsDisabled                             0.017993\n",
      "Census_FirmwareManufacturerIdentifier                0.020541\n",
      "Census_InternalBatteryNumberOfCharges                0.030124\n",
      "Wdft_RegionIdentifier                                0.034014\n",
      "Wdft_IsGamer                                         0.034014\n",
      "CityIdentifier                                       0.036475\n",
      "SMode                                                0.060277\n",
      "OrganizationIdentifier                               0.308415\n",
      "SmartScreen                                          0.356108\n",
      "Census_IsWIMBootEnabled                              0.634390\n",
      "Census_ThresholdOptIn                                0.635245\n",
      "Census_InternalBatteryType                           0.710468\n",
      "Census_IsFlightingInternal                           0.830440\n",
      "DefaultBrowsersIdentifier                            0.951416\n",
      "Census_ProcessorClass                                0.995894\n",
      "PuaMode                                              0.999741\n",
      "Length: 83, dtype: float64\n"
     ]
    },
    {
     "data": {
      "image/png": "[encoded data removed]",
      "text/plain": [
       "<Figure size 432x288 with 1 Axes>"
      ]
     },
     "metadata": {},
     "output_type": "display_data"
    }
   ],
   "source": [
    "import matplotlib.pyplot as plt\n",
    "# Percentage of nulls\n",
    "print(type(df.isnull().sum()/df.shape[0]))\n",
    "plt.figure()\n",
    "# (df.isnull().sum()/df.shape[0]).plot.hist()\n",
    "print((df.isnull().sum()/df.shape[0]).sort_values())\n",
    "(df.isnull().sum()/df.shape[0]).sort_values().plot()\n",
    "plt.show()"
   ]
  },
  {
   "cell_type": "code",
   "execution_count": 5,
   "metadata": {},
   "outputs": [],
   "source": [
    "pd.set_option('max_colwidth',1000)"
   ]
  },
  {
   "cell_type": "code",
   "execution_count": 6,
   "metadata": {},
   "outputs": [
    {
     "name": "stdout",
     "output_type": "stream",
     "text": [
      "PuaMode 99.97411865269486\n",
      "Dropping: PuaMode\n",
      "------\n",
      "Census_ProcessorClass 99.58940682843873\n",
      "Dropping: Census_ProcessorClass\n",
      "------\n",
      "DefaultBrowsersIdentifier 95.14163732644\n",
      "Dropping: DefaultBrowsersIdentifier\n",
      "------\n",
      "Census_IsFlightingInternal 83.04402978742435\n",
      "Dropping: Census_IsFlightingInternal\n",
      "------\n"
     ]
    }
   ],
   "source": [
    "drop_list = []\n",
    "\n",
    "import operator \n",
    "# Find all the NaN\n",
    "# See what percentage of each column is NaN\n",
    "x_pct = {}\n",
    "length = len(df)\n",
    "for y in df.columns:\n",
    "    if df[y].isnull().sum() > 0:\n",
    "        x_cnt = df[y].isnull().sum()\n",
    "        x_pct[y] = 100.0*x_cnt/length\n",
    "        \n",
    "x_pct_list = sorted(x_pct.items(), key=operator.itemgetter(1), reverse=True)\n",
    "      \n",
    "# Print the features, where more than 80% of the data is NaN    \n",
    "for f, val in x_pct_list:\n",
    "    if val > 80:\n",
    "        print(f, val)\n",
    "        drop_list.append(f)\n",
    "        print('Dropping: ' + f)\n",
    "        print('------')"
   ]
  },
  {
   "cell_type": "code",
   "execution_count": 7,
   "metadata": {},
   "outputs": [],
   "source": [
    "# Drop MachineIdentifier\n",
    "drop_list.append('MachineIdentifier')"
   ]
  },
  {
   "cell_type": "code",
   "execution_count": 9,
   "metadata": {},
   "outputs": [],
   "source": [
    "# Remove columns with only 1 unique value\n",
    "# Should do in the end also.\n",
    "# TODO\n",
    "# df.dropna(thresh=2)\n",
    "for col in df:\n",
    "    if(len(df.loc[:,col].unique()) == 1):\n",
    "        print('Dropping: ' + col)\n",
    "        drop_list.append(col)"
   ]
  },
  {
   "cell_type": "code",
   "execution_count": 10,
   "metadata": {},
   "outputs": [
    {
     "name": "stdout",
     "output_type": "stream",
     "text": [
      "                  MachineIdentifier   ProductName EngineVersion  \\\n",
      "0  0000028988387b115f69f31a3bf04f09  win8defender   1.1.15100.1   \n",
      "1  000007535c3f730efa9ea0b7ef1bd645  win8defender   1.1.14600.4   \n",
      "2  000007905a28d863f6d0d597892cd692  win8defender   1.1.15100.1   \n",
      "3  00000b11598a75ea8ba1beea8459149f  win8defender   1.1.15100.1   \n",
      "4  000014a5f00daa18e76b81417eeb99fc  win8defender   1.1.15100.1   \n",
      "\n",
      "        AppVersion  AvSigVersion  \n",
      "0  4.18.1807.18075  1.273.1735.0  \n",
      "1     4.13.17134.1    1.263.48.0  \n",
      "2  4.18.1807.18075  1.273.1341.0  \n",
      "3  4.18.1807.18075  1.273.1527.0  \n",
      "4  4.18.1807.18075  1.273.1379.0  \n",
      "MachineIdentifier object\n",
      "ProductName object\n",
      "EngineVersion object\n",
      "AppVersion object\n",
      "AvSigVersion object\n"
     ]
    }
   ],
   "source": [
    "# Now analyze one column at a time\n",
    "start_cnt = 0\n",
    "show_cnt = 5\n",
    "print(df.iloc[:5,start_cnt:start_cnt+show_cnt])\n",
    "for y in df.columns[start_cnt:start_cnt+show_cnt]:\n",
    "    print(y, df[y].dtype)\n",
    "start_cnt += show_cnt"
   ]
  },
  {
   "cell_type": "code",
   "execution_count": 11,
   "metadata": {},
   "outputs": [],
   "source": [
    "def break_and_get_part(value, position):\n",
    "    return value.split(\".\")[position]"
   ]
  },
  {
   "cell_type": "code",
   "execution_count": 12,
   "metadata": {},
   "outputs": [],
   "source": [
    "df['EngineVersion_0'] = df['EngineVersion'].apply(break_and_get_part, position=0)\n",
    "df['EngineVersion_1'] = df['EngineVersion'].apply(break_and_get_part, position=1)\n",
    "df['EngineVersion_2'] = df['EngineVersion'].apply(break_and_get_part, position=2)\n",
    "df['EngineVersion_3'] = df['EngineVersion'].apply(break_and_get_part, position=3)\n",
    "\n",
    "df['AppVersion_0'] = df['AppVersion'].apply(break_and_get_part, position=0)\n",
    "df['AppVersion_1'] = df['AppVersion'].apply(break_and_get_part, position=1)\n",
    "df['AppVersion_2'] = df['AppVersion'].apply(break_and_get_part, position=2)\n",
    "df['AppVersion_3'] = df['AppVersion'].apply(break_and_get_part, position=3)\n",
    "\n",
    "df['AvSigVersion_0'] = df['AvSigVersion'].apply(break_and_get_part, position=0)\n",
    "df['AvSigVersion_1'] = df['AvSigVersion'].apply(break_and_get_part, position=1)\n",
    "df['AvSigVersion_2'] = df['AvSigVersion'].apply(break_and_get_part, position=2)\n",
    "df['AvSigVersion_3'] = df['AvSigVersion'].apply(break_and_get_part, position=3)\n",
    "\n",
    "drop_list.append('EngineVersion')\n",
    "drop_list.append('AppVersion')\n",
    "drop_list.append('AvSigVersion')"
   ]
  },
  {
   "cell_type": "code",
   "execution_count": 13,
   "metadata": {},
   "outputs": [
    {
     "name": "stdout",
     "output_type": "stream",
     "text": [
      "['1']\n",
      "['1']\n",
      "['15100' '14600' '15200' '15300' '13504' '14800' '15000' '14104' '13804'\n",
      " '14306' '13407' '14405' '14901' '14700' '14202' '13303' '13701' '13000'\n",
      " '14500' '14003' '13601' '13903' '12805' '13202' '12902' '14305' '13704'\n",
      " '14002' '14103' '13103' '14303' '14201' '13102' '11701' '12400' '14001'\n",
      " '11804' '10401' '13902' '14102' '12603' '12706' '12002' '13803' '12101'\n",
      " '13406' '13802' '10302' '11400' '12804' '12300' '12205' '11903' '12505'\n",
      " '11502' '9700' '11602' '13503' '13301' '11202' '11104' '12802' '10701']\n",
      "['1' '4' '6' '0' '3' '2' '5']\n",
      "['4']\n",
      "['18' '13' '9' '10' '8' '12' '14' '11' '16' '6' '4' '7' '17' '5' '15']\n",
      "['1807' '17134' '218' '1806' '1809' '209' '10240' '16299' '17639' '10586'\n",
      " '14393' '15063' '17656' '17007' '17613' '207' '204' '205' '305' '304'\n",
      " '17677' '17661' '17643' '216' '17686' '17672' '17666' '17682' '17650'\n",
      " '306' '17685' '17634' '17655' '17627' '219' '203' '212' '17618' '17604']\n",
      "['18075' '1' '0' '18062' '2' '17914' '228' '15' '18041' '494' '1593' '589'\n",
      " '16384' '18052' '447' '17443' '1106' '18022' '18039' '1155' '1794'\n",
      " '17946' '18011' '17354' '1066' '191' '17113' '873' '1198' '839' '962'\n",
      " '672' '1613' '1045' '112' '17123' '916' '2273' '17319' '965' '17184'\n",
      " '17889' '953' '17861' '17071' '17202' '18072' '319' '18038' '17609'\n",
      " '20021' '1000' '17533' '2248' '17146' '17394' '17797' '1532' '17918'\n",
      " '2457' '18051' '17770' '456' '20015' '1001' '20063' '1003' '726' '17446'\n",
      " '1177' '994' '20082' '20033' '18021' '17121' '18070' '1154' '16425'\n",
      " '1004' '226' '17943']\n",
      "['1' '0']\n",
      "['273' '263' '275' '277' '237' '267' '271' '251' '245' '257' '269' '235'\n",
      " '259' '253' '233' '241' '227' '261' '265' '249' '239' '247' '221' '231'\n",
      " '225' '255' '243' '229' '223' '199' '213' '0' '201' '169' '217' '219'\n",
      " '205' '207' '167' '193' '211' '209' '203' '215' '195' '155' '197' '189'\n",
      " '187' '2&#x17;3' '177']\n",
      "['1735' '48' '1341' ... '2632' '6023' '6073']\n",
      "['0']\n"
     ]
    }
   ],
   "source": [
    "print(df['EngineVersion_0'].unique())\n",
    "print(df['EngineVersion_1'].unique())\n",
    "print(df['EngineVersion_2'].unique())\n",
    "print(df['EngineVersion_3'].unique())\n",
    "print(df['AppVersion_0'].unique())\n",
    "print(df['AppVersion_1'].unique())\n",
    "print(df['AppVersion_2'].unique())\n",
    "print(df['AppVersion_3'].unique())\n",
    "print(df['AvSigVersion_0'].unique())\n",
    "print(df['AvSigVersion_1'].unique())\n",
    "print(df['AvSigVersion_2'].unique())\n",
    "print(df['AvSigVersion_3'].unique())"
   ]
  },
  {
   "cell_type": "code",
   "execution_count": 16,
   "metadata": {
    "scrolled": false
   },
   "outputs": [
    {
     "name": "stdout",
     "output_type": "stream",
     "text": [
      "   IsBeta  RtpStateBitfield  IsSxsPassiveMode  DefaultBrowsersIdentifier  \\\n",
      "0       0               7.0                 0                        NaN   \n",
      "1       0               7.0                 0                        NaN   \n",
      "2       0               7.0                 0                        NaN   \n",
      "3       0               7.0                 0                        NaN   \n",
      "4       0               7.0                 0                        NaN   \n",
      "\n",
      "   AVProductStatesIdentifier  \n",
      "0                    53447.0  \n",
      "1                    53447.0  \n",
      "2                    53447.0  \n",
      "3                    53447.0  \n",
      "4                    53447.0  \n",
      "IsBeta int64\n",
      "[0 1]\n",
      "RtpStateBitfield float64\n",
      "[ 7.  0. nan  3.  5.  8.  1. 35.]\n",
      "IsSxsPassiveMode int64\n",
      "[0 1]\n",
      "DefaultBrowsersIdentifier float64\n",
      "[  nan 1950.  146. ... 2327.  976. 1149.]\n",
      "AVProductStatesIdentifier float64\n",
      "[53447. 43927. 46413. ... 16684. 60602. 31745.]\n"
     ]
    }
   ],
   "source": [
    "# Now analyze the next 5 features\n",
    "print(df.iloc[:5,start_cnt:start_cnt+show_cnt])\n",
    "for y in df.columns[start_cnt:start_cnt+show_cnt]:\n",
    "  print(y, df[y].dtype)\n",
    "  print(df[y].unique())\n",
    "start_cnt += show_cnt"
   ]
  },
  {
   "cell_type": "code",
   "execution_count": 18,
   "metadata": {
    "scrolled": false
   },
   "outputs": [
    {
     "name": "stdout",
     "output_type": "stream",
     "text": [
      "   AVProductsInstalled  AVProductsEnabled  HasTpm  CountryIdentifier  \\\n",
      "0                  1.0                1.0       1                 29   \n",
      "1                  1.0                1.0       1                 93   \n",
      "2                  1.0                1.0       1                 86   \n",
      "3                  1.0                1.0       1                 88   \n",
      "4                  1.0                1.0       1                 18   \n",
      "\n",
      "   CityIdentifier  \n",
      "0        128035.0  \n",
      "1          1482.0  \n",
      "2        153579.0  \n",
      "3         20710.0  \n",
      "4         37376.0  \n",
      "AVProductsInstalled float64\n",
      "[ 1.  2.  3.  5. nan  4.  6.  7.  0.]\n",
      "AVProductsEnabled float64\n",
      "[ 1.  2.  0.  4. nan  3.  5.]\n",
      "HasTpm int64\n",
      "[1 0]\n",
      "CountryIdentifier int64\n",
      "[ 29  93  86  88  18  97  78 164 107  80 171 169 157 178 158  43 147  12\n",
      " 203 205 199   9  68 201 141  35 159 160 129  44 207  15  89   3 108  55\n",
      " 195 214 148 100  16 155 190  95  53 204  94   8 152 110 184 132 122  57\n",
      "  39  51  59  70  52 121 149 142  41   2 179 180  27 103 167 101 220 119\n",
      " 173  84 166  60  56 150  99  66  24 151  19  91  81  50 168 162  21 154\n",
      "  45 137   7 139 123  37 177  33 104 188 202 211 112 118 144 115 221  98\n",
      "  85 208  11  40  58 120 170 102 145 215 143  62 163  48 222 131 156 124\n",
      "  90 106  28  73  30  63  26  22 117 183  49  96  61 185 138 172 133 127\n",
      "  87  46  42   5  71  32 198 197  17   6 113  83  36 135 153 206  25  38\n",
      " 219 140  34  67  23 130 175 136  13 111  74  47 192 210 146  76 191 125\n",
      " 176 209   4 218 182  92 194  77 134 196  10 186  69  82   1 181  31  54\n",
      "  20 109 116  65 213 126 189 174  75 165 114  79 128  72 217 187  64  14\n",
      " 200 216 212 193 105 161]\n",
      "CityIdentifier float64\n",
      "[128035.   1482. 153579. ...  47472. 147921.  97837.]\n"
     ]
    }
   ],
   "source": [
    "# Now analyze the next 5 features\n",
    "print(df.iloc[:5,start_cnt:start_cnt+show_cnt])\n",
    "for y in df.columns[start_cnt:start_cnt+show_cnt]:\n",
    "  print(y, df[y].dtype)\n",
    "  print(df[y].unique())\n",
    "start_cnt += show_cnt"
   ]
  },
  {
   "cell_type": "code",
   "execution_count": 19,
   "metadata": {
    "scrolled": false
   },
   "outputs": [
    {
     "name": "stdout",
     "output_type": "stream",
     "text": [
      "   OrganizationIdentifier  GeoNameIdentifier  LocaleEnglishNameIdentifier  \\\n",
      "0                    18.0               35.0                          171   \n",
      "1                    18.0              119.0                           64   \n",
      "2                    18.0               64.0                           49   \n",
      "3                     NaN              117.0                          115   \n",
      "4                     NaN              277.0                           75   \n",
      "\n",
      "    Platform Processor  \n",
      "0  windows10       x64  \n",
      "1  windows10       x64  \n",
      "2  windows10       x64  \n",
      "3  windows10       x64  \n",
      "4  windows10       x64  \n",
      "OrganizationIdentifier float64\n",
      "[18. nan 27. 46. 11. 14. 37. 10. 50. 49. 33.  8. 48. 36. 31.  4.  1. 28.\n",
      "  3. 52. 32. 51.  5.  2. 47. 44. 16. 40. 20. 22. 29. 26. 21. 39.  6. 19.\n",
      "  7. 30. 42. 43. 41. 15. 45. 25. 35. 23. 38. 12. 17. 34.]\n",
      "GeoNameIdentifier float64\n",
      "[ 35. 119.  64. 117. 277. 126.  89. 205. 138. 101. 211. 209. 199. 230.\n",
      " 202.  53. 187.  15. 255. 274. 266.  10. 276. 267. 240.  45. 204.  57.\n",
      "  17. 120.  75. 185. 253.  71. 122. 184. 287.  76. 252.  98. 167.  77.\n",
      " 258. 148. 181. 157.  52. 224. 234. 233.  30. 186. 129. 237. 151. 200.\n",
      " 192.   3.   6.  24. 125. 107.  68.  39. 121. 198.  63. 294. 160.  11.\n",
      " 171. 251.  23. 207.  78. 194.  32. 241. 114. 282.  16. 154.  81. 144.\n",
      " 201. 264.  88. 206.  29. 284. 180.  66.  85. 150. 175.  91. 257. 123.\n",
      " 243. 226.  87. 275. 134. 145. 143.  19. 225.  67. 248. 115. 127. 133.\n",
      " 152. 155.   9. 165. 259.  90.  22. 176.  97.  21.  99. 286. 244. 111.\n",
      "  65. 140. 163. 273.  84. 208. 191. 250. 235.   2. 135. 170. 193. 109.\n",
      "  18. 118.  38.  12. 295. 177.   1. 281. 183.  33.  44. 246. 104. 110.\n",
      " 158. 178. 141. 166.  25.  69. 146.  80. 172. 261.  70. 112. 196. 228.\n",
      " 293.  43. 159. 100. 156.  27.  96. 147. 236.  46.   5. 227. 270.  60.\n",
      " 103. 173. 153. 105. 182. 113.  94. 247.  40. 102. 283. 221. 239. 268.\n",
      " 223. 128.  74. 263. 215.  86.  26. 131.  28.  82.  61. 149.  50.   7.\n",
      " 203.  34.  37. 162. 229. 271. 168. 272. 142. 288.  56. 232.  93. 289.\n",
      "  nan 269. 254. 164. 108.  58.   4. 285. 222.  54.  41. 195. 256. 161.\n",
      " 238.  49.  79. 174.  48. 220. 212.  36. 216. 139. 179.  73. 296.  31.\n",
      " 218.  59.  47. 291. 213. 188. 214. 262. 137.   8. 190. 217. 290. 245.\n",
      " 231. 124.  42. 189. 136. 260. 242. 292. 197.  95.  13. 280.  14.  51.\n",
      "  72. 210. 249. 265. 132. 169. 116. 106.  92. 219.  55. 279. 278.]\n",
      "LocaleEnglishNameIdentifier int64\n",
      "[171  64  49 115  75 124  88 172 134 107 182  74  71  70  42  58  46 266\n",
      " 214 251 233  60 170 218 118 221 228  17  52  69  83 106 103 227  12  56\n",
      "  68 226 211 210 216 277 126 217  72  91  16 230   8  55 113 224  51  34\n",
      " 168 229 219   7  22  93 239  15 223 262 222 235 246  32 225 236 102 162\n",
      " 253  77 139 231  73 105  97  80 232 215 140  94  81  66   5   6  96 202\n",
      "  13  19  44  67 129  36 176   9  45  61  63  65 283 265  10 179 234 125\n",
      " 132 178  14 263 116  79  76  35 199 198 114  82 101   2 269 121  26 135\n",
      " 238  59  95 160  90  43 154  92 147 237  11 159 209 143  78 200  24 144\n",
      " 260  85 192 149 272  50 201 100  21   1 212 104 208  33   3 142  30 166\n",
      "  87  62 152 252  89 276 247 158 108  41 278 169 163  20 136  54 117   4\n",
      "  40  25 187 181 180  18 141 112  28 110 270 242 173 271 174 177  29 157\n",
      " 243 250 130 111 175 148  48 186 240 196 145 150 189  53 133 254 282 155\n",
      " 188 195  98 127  84  31 245 167 164 197 206 275 220 274 194  86 138 205\n",
      " 119 273 191 183 109 131  23 248 280 151 123 241 244  38 204 264 161 257\n",
      "  47 165 128 185 122 267 258 213 153 249  27 279 137 184 156 193 190 146\n",
      " 120 255  39  99 203 259]\n",
      "Platform object\n",
      "['windows10' 'windows7' 'windows8' 'windows2016']\n",
      "Processor object\n",
      "['x64' 'arm64' 'x86']\n"
     ]
    }
   ],
   "source": [
    "# Now analyze the next 5 features\n",
    "print(df.iloc[:5,start_cnt:start_cnt+show_cnt])\n",
    "for y in df.columns[start_cnt:start_cnt+show_cnt]:\n",
    "  print(y, df[y].dtype)\n",
    "  print(df[y].unique())\n",
    "start_cnt += show_cnt"
   ]
  },
  {
   "cell_type": "code",
   "execution_count": 20,
   "metadata": {
    "scrolled": false
   },
   "outputs": [
    {
     "name": "stdout",
     "output_type": "stream",
     "text": [
      "   OrganizationIdentifier  GeoNameIdentifier  LocaleEnglishNameIdentifier  \\\n",
      "0                    18.0               35.0                          171   \n",
      "1                    18.0              119.0                           64   \n",
      "2                    18.0               64.0                           49   \n",
      "3                     NaN              117.0                          115   \n",
      "4                     NaN              277.0                           75   \n",
      "\n",
      "    Platform Processor  \n",
      "0  windows10       x64  \n",
      "1  windows10       x64  \n",
      "2  windows10       x64  \n",
      "3  windows10       x64  \n",
      "4  windows10       x64  \n",
      "OrganizationIdentifier float64\n",
      "[18. nan 27. 46. 11. 14. 37. 10. 50. 49. 33.  8. 48. 36. 31.  4.  1. 28.\n",
      "  3. 52. 32. 51.  5.  2. 47. 44. 16. 40. 20. 22. 29. 26. 21. 39.  6. 19.\n",
      "  7. 30. 42. 43. 41. 15. 45. 25. 35. 23. 38. 12. 17. 34.]\n",
      "GeoNameIdentifier float64\n",
      "[ 35. 119.  64. 117. 277. 126.  89. 205. 138. 101. 211. 209. 199. 230.\n",
      " 202.  53. 187.  15. 255. 274. 266.  10. 276. 267. 240.  45. 204.  57.\n",
      "  17. 120.  75. 185. 253.  71. 122. 184. 287.  76. 252.  98. 167.  77.\n",
      " 258. 148. 181. 157.  52. 224. 234. 233.  30. 186. 129. 237. 151. 200.\n",
      " 192.   3.   6.  24. 125. 107.  68.  39. 121. 198.  63. 294. 160.  11.\n",
      " 171. 251.  23. 207.  78. 194.  32. 241. 114. 282.  16. 154.  81. 144.\n",
      " 201. 264.  88. 206.  29. 284. 180.  66.  85. 150. 175.  91. 257. 123.\n",
      " 243. 226.  87. 275. 134. 145. 143.  19. 225.  67. 248. 115. 127. 133.\n",
      " 152. 155.   9. 165. 259.  90.  22. 176.  97.  21.  99. 286. 244. 111.\n",
      "  65. 140. 163. 273.  84. 208. 191. 250. 235.   2. 135. 170. 193. 109.\n",
      "  18. 118.  38.  12. 295. 177.   1. 281. 183.  33.  44. 246. 104. 110.\n",
      " 158. 178. 141. 166.  25.  69. 146.  80. 172. 261.  70. 112. 196. 228.\n",
      " 293.  43. 159. 100. 156.  27.  96. 147. 236.  46.   5. 227. 270.  60.\n",
      " 103. 173. 153. 105. 182. 113.  94. 247.  40. 102. 283. 221. 239. 268.\n",
      " 223. 128.  74. 263. 215.  86.  26. 131.  28.  82.  61. 149.  50.   7.\n",
      " 203.  34.  37. 162. 229. 271. 168. 272. 142. 288.  56. 232.  93. 289.\n",
      "  nan 269. 254. 164. 108.  58.   4. 285. 222.  54.  41. 195. 256. 161.\n",
      " 238.  49.  79. 174.  48. 220. 212.  36. 216. 139. 179.  73. 296.  31.\n",
      " 218.  59.  47. 291. 213. 188. 214. 262. 137.   8. 190. 217. 290. 245.\n",
      " 231. 124.  42. 189. 136. 260. 242. 292. 197.  95.  13. 280.  14.  51.\n",
      "  72. 210. 249. 265. 132. 169. 116. 106.  92. 219.  55. 279. 278.]\n",
      "LocaleEnglishNameIdentifier int64\n",
      "[171  64  49 115  75 124  88 172 134 107 182  74  71  70  42  58  46 266\n",
      " 214 251 233  60 170 218 118 221 228  17  52  69  83 106 103 227  12  56\n",
      "  68 226 211 210 216 277 126 217  72  91  16 230   8  55 113 224  51  34\n",
      " 168 229 219   7  22  93 239  15 223 262 222 235 246  32 225 236 102 162\n",
      " 253  77 139 231  73 105  97  80 232 215 140  94  81  66   5   6  96 202\n",
      "  13  19  44  67 129  36 176   9  45  61  63  65 283 265  10 179 234 125\n",
      " 132 178  14 263 116  79  76  35 199 198 114  82 101   2 269 121  26 135\n",
      " 238  59  95 160  90  43 154  92 147 237  11 159 209 143  78 200  24 144\n",
      " 260  85 192 149 272  50 201 100  21   1 212 104 208  33   3 142  30 166\n",
      "  87  62 152 252  89 276 247 158 108  41 278 169 163  20 136  54 117   4\n",
      "  40  25 187 181 180  18 141 112  28 110 270 242 173 271 174 177  29 157\n",
      " 243 250 130 111 175 148  48 186 240 196 145 150 189  53 133 254 282 155\n",
      " 188 195  98 127  84  31 245 167 164 197 206 275 220 274 194  86 138 205\n",
      " 119 273 191 183 109 131  23 248 280 151 123 241 244  38 204 264 161 257\n",
      "  47 165 128 185 122 267 258 213 153 249  27 279 137 184 156 193 190 146\n",
      " 120 255  39  99 203 259]\n",
      "Platform object\n",
      "['windows10' 'windows7' 'windows8' 'windows2016']\n",
      "Processor object\n",
      "['x64' 'arm64' 'x86']\n"
     ]
    }
   ],
   "source": [
    "# Now analyze the next 5 features\n",
    "print(df.iloc[:5,start_cnt:start_cnt+show_cnt])\n",
    "for y in df.columns[start_cnt:start_cnt+show_cnt]:\n",
    "  print(y, df[y].dtype)\n",
    "  print(df[y].unique())\n",
    "start_cnt += show_cnt"
   ]
  },
  {
   "cell_type": "code",
   "execution_count": null,
   "metadata": {},
   "outputs": [],
   "source": []
  }
 ],
 "metadata": {
  "kernelspec": {
   "display_name": "Python [default]",
   "language": "python",
   "name": "python3"
  },
  "language_info": {
   "codemirror_mode": {
    "name": "ipython",
    "version": 3
   },
   "file_extension": ".py",
   "mimetype": "text/x-python",
   "name": "python",
   "nbconvert_exporter": "python",
   "pygments_lexer": "ipython3",
   "version": "3.5.5"
  }
 },
 "nbformat": 4,
 "nbformat_minor": 2
}
