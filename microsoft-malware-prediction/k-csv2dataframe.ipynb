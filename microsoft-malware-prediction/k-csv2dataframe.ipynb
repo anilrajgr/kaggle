{
 "cells": [
  {
   "cell_type": "code",
   "execution_count": 1,
   "metadata": {},
   "outputs": [],
   "source": [
    "import pandas as pd\n",
    "import glob\n",
    "import shutil\n",
    "import sys\n",
    "import numpy as np\n",
    "from IPython.display import display, HTML\n",
    "import matplotlib.pyplot as plt"
   ]
  },
  {
   "cell_type": "code",
   "execution_count": null,
   "metadata": {},
   "outputs": [],
   "source": [
    "file = 'data/train.csv'\n",
    "df = pd.read_csv(file)"
   ]
  },
  {
   "cell_type": "code",
   "execution_count": null,
   "metadata": {},
   "outputs": [],
   "source": [
    "df = df.loc[:, (df != 0).any(axis=0)]\n",
    "print(df.shape)\n",
    "df.info()"
   ]
  },
  {
   "cell_type": "code",
   "execution_count": null,
   "metadata": {},
   "outputs": [],
   "source": [
    "import matplotlib.pyplot as plt\n",
    "# Percentage of nulls\n",
    "print(type(df.isnull().sum()/df.shape[0]))\n",
    "plt.figure()\n",
    "# (df.isnull().sum()/df.shape[0]).plot.hist()\n",
    "print((df.isnull().sum()/df.shape[0]).sort_values())\n",
    "(df.isnull().sum()/df.shape[0]).sort_values().plot()\n",
    "plt.show()"
   ]
  },
  {
   "cell_type": "code",
   "execution_count": null,
   "metadata": {},
   "outputs": [],
   "source": [
    "pd.set_option('max_colwidth',1000)"
   ]
  },
  {
   "cell_type": "code",
   "execution_count": null,
   "metadata": {},
   "outputs": [],
   "source": [
    "import operator \n",
    "# Find all the NaN\n",
    "# See what percentage of each column is NaN\n",
    "x_pct = {}\n",
    "length = len(df)\n",
    "for y in df.columns:\n",
    "    if df[y].isnull().sum() > 0:\n",
    "        x_cnt = df[y].isnull().sum()\n",
    "        x_pct[y] = 100.0*x_cnt/length\n",
    "        \n",
    "x_pct_list = sorted(x_pct.items(), key=operator.itemgetter(1), reverse=True)\n",
    "      \n",
    "# Print the features, where more than 80% of the data is NaN    \n",
    "for f, val in x_pct_list:\n",
    "    if val > 80:\n",
    "        print(f, val, end='')\n",
    "        print('------')"
   ]
  },
  {
   "cell_type": "code",
   "execution_count": null,
   "metadata": {},
   "outputs": [],
   "source": []
  }
 ],
 "metadata": {
  "kernelspec": {
   "display_name": "Python 3",
   "language": "python",
   "name": "python3"
  },
  "language_info": {
   "codemirror_mode": {
    "name": "ipython",
    "version": 3
   },
   "file_extension": ".py",
   "mimetype": "text/x-python",
   "name": "python",
   "nbconvert_exporter": "python",
   "pygments_lexer": "ipython3",
   "version": "3.7.0"
  }
 },
 "nbformat": 4,
 "nbformat_minor": 2
}
